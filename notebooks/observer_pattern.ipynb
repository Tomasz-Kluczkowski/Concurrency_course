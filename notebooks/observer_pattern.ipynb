{
 "cells": [
  {
   "cell_type": "markdown",
   "metadata": {},
   "source": [
    "# Observer Pattern - Single and Multi-threaded Implementation in Python"
   ]
  },
  {
   "cell_type": "markdown",
   "metadata": {
    "collapsed": true
   },
   "source": [
    "In this article we will consider one of the very well known behavioral patterns called the **observer pattern**.\n",
    "\n",
    "In this pattern we are isolating a group of objects called `Observer`s from the `Observable` (also known as `Subject`).\n",
    "\n",
    "The `Observer` is interested in a state change of the `Observable`.\n",
    "The role of the `Observable` is to notify all registered observers about the state update (similar to a notification\n",
    " subscription on our phones).\n",
    "\n",
    "We will implement initially a single-threaded version of this pattern.\n",
    "Then we will discuss the potential issues in a multi threaded approach and finally progress to a thread safe version\n",
    "that is as performant as we can make it."
   ]
  },
  {
   "cell_type": "markdown",
   "metadata": {},
   "source": [
    "### Creating Auxiliary Classes\n",
    "We will define the auxiliary classes that will be needed.\n",
    "\n",
    "We require an `Event` object definition that will be used to pass information into the `Observer` from the `Observable`."
   ]
  },
  {
   "cell_type": "code",
   "execution_count": 12,
   "metadata": {},
   "outputs": [],
   "source": [
    "from collections import defaultdict\n",
    "from dataclasses import dataclass\n",
    "from datetime import datetime\n",
    "from time import sleep\n",
    "from typing import DefaultDict, List\n",
    "\n",
    "\n",
    "class EventKeys:\n",
    "    EXPENSES = 'expenses'\n",
    "\n",
    "\n",
    "@dataclass\n",
    "class Event:\n",
    "    name: str\n",
    "    data: dict"
   ]
  },
  {
   "cell_type": "markdown",
   "metadata": {},
   "source": [
    "### Defining Interfaces for the Observer Pattern\n",
    "Below we define the `Observer` and `Observable` as abstract classes with their methods."
   ]
  },
  {
   "cell_type": "code",
   "execution_count": 13,
   "metadata": {
    "pycharm": {
     "name": "#%%\n"
    }
   },
   "outputs": [],
   "source": [
    "from abc import ABC, abstractmethod\n",
    "\n",
    "\n",
    "\n",
    "class IObserver(ABC):\n",
    "    @abstractmethod\n",
    "    def update(self, event: Event, key: str):\n",
    "        raise NotImplementedError\n",
    "\n",
    "\n",
    "class IObservable(ABC):\n",
    "    @abstractmethod\n",
    "    def add_observer(self, observer: IObserver, key: str):\n",
    "        raise NotImplementedError\n",
    "    \n",
    "    @abstractmethod\n",
    "    def remove_observer(self, observer: IObserver, key: str):\n",
    "        raise NotImplementedError\n",
    "    \n",
    "    @abstractmethod\n",
    "    def update_observers(self, event: Event, key: str):\n",
    "        raise NotImplementedError"
   ]
  },
  {
   "cell_type": "markdown",
   "metadata": {
    "pycharm": {
     "name": "#%% md\n"
    }
   },
   "source": [
    "### Implementing Concrete Versions for Single Threaded Use Case\n",
    "Now that we have the necessary building blocks we can implement a single threaded version of the pattern and profile\n",
    "its performance."
   ]
  },
  {
   "cell_type": "code",
   "execution_count": 14,
   "metadata": {},
   "outputs": [],
   "source": [
    "UPDATE_DELAY = 0.5\n",
    "\n",
    "\n",
    "class Observer(IObserver):\n",
    "    def __init__(self, name: str):\n",
    "        self.name = name\n",
    "        self.totals = defaultdict(float)\n",
    "\n",
    "    def update(self, event: Event, key: str):\n",
    "        sleep(UPDATE_DELAY)\n",
    "        print(f'{self.name} received event \"{event.name}\" for {key}')\n",
    "        print(f'Event data: {event.data}')\n",
    "        self.totals[key] += event.data.get(key, 0)\n",
    "        print(f'Total for {key}: {self.totals[key]}')"
   ]
  },
  {
   "cell_type": "markdown",
   "metadata": {
    "pycharm": {
     "name": "#%% md\n"
    }
   },
   "source": [
    "Our concrete `Observer` has a simple `update` method that will inform us about the received event and store total of\n",
    "values received in the data for each key. We are adding delay to `update` to simulate a computationally expensive\n",
    "execution and check how our class performs later on in different implementations."
   ]
  },
  {
   "cell_type": "code",
   "execution_count": 15,
   "metadata": {
    "pycharm": {
     "name": "#%%\n"
    }
   },
   "outputs": [],
   "source": [
    "class Observable(IObservable):\n",
    "    def __init__(self):\n",
    "        self.observers_map: DefaultDict[str, List[Observer]] = defaultdict(list)\n",
    "\n",
    "    def add_observer(self, observer: Observer, key: str):\n",
    "        self.observers_map[key].append(observer)\n",
    "\n",
    "    def remove_observer(self, observer: Observer, key: str):\n",
    "        if observer in self.observers_map[key]:\n",
    "            self.observers_map[key].remove(observer)\n",
    "\n",
    "    def update_observers(self, event: Event, key: str):\n",
    "        for observer in self.observers_map[key]:\n",
    "            observer.update(event=event, key=key)"
   ]
  },
  {
   "cell_type": "markdown",
   "metadata": {},
   "source": [
    "The concrete version of the `Observable` contains a map of observers that will be added by key (category).\n",
    "We have implementations of the basic methods that will allow adding, removing and updating observers."
   ]
  },
  {
   "cell_type": "markdown",
   "metadata": {},
   "source": [
    "### Testing performance of single threaded implementation  of the Observer Pattern\n",
    "\n",
    "We can easily argue that adding and removing observers are trivial and do not require performance testing since access\n",
    "to the dictionary is a O(1) operation.\n",
    "\n",
    "The most important test for us is updating large quantity of observers. As we can guess it will be a linear relationship\n",
    "growing proportionally with the number of observers added. Here we should point out that the update method may be taking\n",
    "an unknown time to execute as individual observer will have its own implementation of it. To make matters simple we will\n",
    "add some constant delay to update method so that later we can compare single and multi threaded performance."
   ]
  },
  {
   "cell_type": "code",
   "execution_count": 16,
   "metadata": {
    "pycharm": {
     "name": "#%%\n"
    }
   },
   "outputs": [
    {
     "name": "stdout",
     "output_type": "stream",
     "text": [
      "Observer-0 received event \"Adding Expenses\" for expenses\n",
      "Event data: {'expenses': 1}\n",
      "Total for expenses: 1.0\n",
      "Observer-1 received event \"Adding Expenses\" for expenses\n",
      "Event data: {'expenses': 1}\n",
      "Total for expenses: 1.0\n",
      "Observer-2 received event \"Adding Expenses\" for expenses\n",
      "Event data: {'expenses': 1}\n",
      "Total for expenses: 1.0\n",
      "Observer-3 received event \"Adding Expenses\" for expenses\n",
      "Event data: {'expenses': 1}\n",
      "Total for expenses: 1.0\n",
      "Observer-4 received event \"Adding Expenses\" for expenses\n",
      "Event data: {'expenses': 1}\n",
      "Total for expenses: 1.0\n",
      "Observer-5 received event \"Adding Expenses\" for expenses\n",
      "Event data: {'expenses': 1}\n",
      "Total for expenses: 1.0\n",
      "Observer-6 received event \"Adding Expenses\" for expenses\n",
      "Event data: {'expenses': 1}\n",
      "Total for expenses: 1.0\n",
      "Observer-7 received event \"Adding Expenses\" for expenses\n",
      "Event data: {'expenses': 1}\n",
      "Total for expenses: 1.0\n",
      "Observer-8 received event \"Adding Expenses\" for expenses\n",
      "Event data: {'expenses': 1}\n",
      "Total for expenses: 1.0\n",
      "Observer-9 received event \"Adding Expenses\" for expenses\n",
      "Event data: {'expenses': 1}\n",
      "Total for expenses: 1.0\n"
     ]
    }
   ],
   "source": [
    "\n",
    "# Build an array of observers\n",
    "NUMBER_OF_OBSERVERS = 10\n",
    "observers = []\n",
    "for i in range(NUMBER_OF_OBSERVERS):\n",
    "    observer = Observer(name=f'Observer-{i}')\n",
    "    observers.append(observer)\n",
    "\n",
    "# Create an instance of Observable\n",
    "observable = Observable()\n",
    "\n",
    "# Add observers to the observable instance.\n",
    "for observer in observers:\n",
    "    observable.add_observer(observer=observer, key=EventKeys.EXPENSES)\n",
    "\n",
    "# Generate an event\n",
    "expenses_event = Event(name='Adding Expenses', data={EventKeys.EXPENSES: 1})\n",
    "\n",
    "# Measure time it takes to update all observers in the single threaded implementation\n",
    "single_threaded_update_start = datetime.now()\n",
    "observable.update_observers(event=expenses_event, key=EventKeys.EXPENSES)\n",
    "single_threaded_update_stop = datetime.now()\n",
    "\n",
    "single_threaded_update_duration = single_threaded_update_stop - single_threaded_update_start"
   ]
  },
  {
   "cell_type": "code",
   "execution_count": 17,
   "metadata": {
    "pycharm": {
     "name": "#%%\n"
    }
   },
   "outputs": [
    {
     "data": {
      "text/plain": [
       "datetime.timedelta(seconds=5, microseconds=12051)"
      ]
     },
     "execution_count": 17,
     "metadata": {},
     "output_type": "execute_result"
    }
   ],
   "source": [
    "print(f'Single threaded update takes: {single_threaded_update_duration}')"
   ]
  },
  {
   "cell_type": "markdown",
   "metadata": {},
   "source": [
    "As expected the single threaded `update` took roughly number of observers * `UPDATE_DELAY` in seconds to complete."
   ]
  },
  {
   "cell_type": "markdown",
   "metadata": {},
   "source": [
    "### Implementing multi-threaded version of the Observer Pattern\n",
    "\n",
    "As we have observed the slowest part of the pattern is updating all of the observers.\n",
    "In the single threaded version we simply loop over the array of the observers and if any of their individual `update`\n",
    "methods requires long execution the entire `update_observers` method blocks the thread in which it is running.\n",
    "\n",
    "It would be nice to be able to add/remove observers from any thread safely as well as make `update_observers` more \n",
    "performant.\n",
    "Unfortunately as soon as we walk into the shared memory land of multi-threaded design we hit a bunch of problems.\n",
    "\n",
    "In the `Observer` class - we are modifying the dictionary `observers_map` in `add_observer` and\n",
    "`remove_observer` methods. We are also relying on it being in a non-changing state when iterating over its contents in\n",
    "`update_observers`.\n",
    "\n",
    "The problem is that in multi-threaded execution the individual threads are switched by the operating system\n",
    "(OS) in a non-deterministic way (preemptive switching). This interleaving of execution can lead to a corrupted state\n",
    "(as explained below) if thread safety is not implemented correctly due to **race conditions**.\n",
    "\n",
    "Race conditions occur when 2 or more threads attempt reading and writing the same memory.\n",
    "\n",
    "Lastly our observers if allowed to work in multiple threads have to be implemented in a thread-safe\n",
    "way since the `Observable` cannot know the details of each possible `Observer` and its `update` method\n",
    "(and should not be concerned with it).\n",
    "Thus we put the onus of making sure that the observers can be updated from multiple threads on themselves.\n",
    "\n",
    "What will happen when we allow any combination of threads to call those methods in any order?"
   ]
  },
  {
   "cell_type": "markdown",
   "metadata": {},
   "source": [
    "### Example of possible complications in multi-threading:\n",
    "\n",
    "Let's discuss one of multiple issues that can occur when calling `add_observer` from multiple threads.\n",
    "\n",
    "We have `Thread A` and `Thread B`, there are no registered observers on our `Observable` instance\n",
    "(`observers_map` is empty).\n",
    "\n",
    "Both threads are adding an observer each.\n",
    "\n",
    "Keep in mind that the OS will use preemptive switching - meaning the threads are being changed by the OS at certain\n",
    "intervals and may interrupt execution of any statement. Also note that even simplest of statements in Python which looks\n",
    "like one operation in reality is almost always a multi step operation at the CPU level **which may be interrupted at\n",
    "any time** before its completion (non atomic instruction).\n",
    "\n",
    " Here is what can potentially go wrong:\n",
    " \n",
    " 1. `Thread A` calls `add_observer(observer_1, key_1)`, the `observers_map` is still empty.\n",
    " 2. Since it is empty we are adding an entry to it at `key_1`\n",
    " 3. Python creates a mapping for the `key_1` pointing at an empty list initially (`defaultdict(list)`).\n",
    " 4. OS switches threads.\n",
    " 5. `Thread B` calls `add_observer(observer_2, key_1)`, the `observers_map` has just a `key_1` pointing to an empty\n",
    " list! We have not finished adding the `observer_1` yet!\n",
    " 6. `observer_2` gets appended to the list.\n",
    " 7. OS switches threads - remember, this means we restore the registers, stack etc - so we go back to just having a \n",
    " mapping from `key_1` to an empty list that we got in point 3.\n",
    " 8. `observer_1` gets appended to the list under `key_1`. We have lost `observer_2` forever...\n",
    " \n",
    " We ended up with a corrupted state of the `observers_map`.\n",
    " This is an incredibly rare occurrence, nonetheless our code will be prone to intractable errors.\n",
    " \n",
    " This is only one of the potential problems. We can have similar issues when removing observers or calling update \n",
    " method and also our observers if used from multiple threads present identical issue."
   ]
  },
  {
   "cell_type": "markdown",
   "source": [
    "### Goals when implementing multi-threaded Observer Pattern\n",
    "\n",
    "* `add_observer`, `remove_observer` and `update_observers` can be safely called from any thread.\n",
    "* `add_observer` and `remove_observer` require **write access** to `observers_map`. This should be **exclusive to one\n",
    "thread** and **prohibit read access** to any other thread.\n",
    "* Since `update_observers` is a read-only method from the point of view of the `Observable` - we should allow for it to\n",
    "be executed by any number of threads, **as long as no write access** to the `observers_map` is granted at this time.\n",
    "* We would prefer for the events to arrive at the observers in the order that they were fired."
   ],
   "metadata": {
    "collapsed": false
   }
  },
  {
   "cell_type": "markdown",
   "source": [
    "### Simple thread-safe Observer Pattern implementation and core concepts of synchronisation\n",
    "\n",
    "Our first attempt will only solve thread safety part of our goals. We will not achieve any boosts in performance or\n",
    "consider any other aspects of the design but it will allow us to explain the concepts involved on a concrete example.\n",
    "\n",
    "This implementation will use the **Monitor Pattern** - each method will be guarded, protecting the data from corruption\n",
    "by wrapping execution of it in a **mutex** (lock) object.\n",
    "\n",
    "Mutex (mutually exclusive lock - or simply lock) is one of the basic but very effective **synchronisation primitives**.\n",
    "Since we cannot allow more than one thread to access a given part of shared memory (in the simple version) to avoid\n",
    "corruption we need a mechanism to achieve that.\n",
    "\n",
    "The `Lock` (Mutex) object is a simple flag with two possible states - 0 or 1 and two methods:\n",
    "* `acquire` - which will block the thread's execution until the lock's state is 0. Once acquired it will change the\n",
    "lock's state to 1 (lock closed state)\n",
    "* `release` - which will \"open\" the lock, changing its state to 0. This allows threads to obtain the lock.\n",
    "\n",
    "**Note:**\n",
    "\n",
    "If you are a careful reader (and you looked at the examples of complications of multi-threading) you may question the\n",
    "actual thread safety of the `Lock` object itself.\n",
    "\n",
    "Since when a simple flag with two states is guaranteed to be thread safe? Shouldn't it be prone to exactly the same\n",
    "issues as described above?\n",
    "\n",
    "Well, the lock object is not just a simple flag - its implementation goes deep all the way into the CPU's **atomic\n",
    "instruction** called **Compare and Swap** (or Compare and Set).\n",
    "\n",
    "This instruction is implemented at the **hardware** level (CPU) and guarantees **atomic** (uninterrupted) execution.\n",
    "\n",
    "What does it do?\n",
    "\n",
    "It compares a value and sets a variable based on the result of the comparison - which is exactly what we need to have\n",
    "the `Lock` working, right?\n",
    "\n",
    "We check if it is 0 (opened) or 1 (closed) and allow or block given thread from executing. When checking we also want\n",
    "to make sure that **nothing else can modify the lock** - this is what the atomicity of the compare and swap instruction\n",
    "achieves."
   ],
   "metadata": {
    "collapsed": false
   }
  }
 ],
 "metadata": {
  "kernelspec": {
   "display_name": "Python 3",
   "language": "python",
   "name": "python3"
  },
  "language_info": {
   "codemirror_mode": {
    "name": "ipython",
    "version": 3
   },
   "file_extension": ".py",
   "mimetype": "text/x-python",
   "name": "python",
   "nbconvert_exporter": "python",
   "pygments_lexer": "ipython3",
   "version": "3.7.7"
  }
 },
 "nbformat": 4,
 "nbformat_minor": 1
}