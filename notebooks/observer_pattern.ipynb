{
 "cells": [
  {
   "cell_type": "markdown",
   "metadata": {},
   "source": [
    "# Observer Pattern Implementation in Python "
   ]
  },
  {
   "cell_type": "markdown",
   "metadata": {
    "collapsed": true
   },
   "source": [
    "In this article we will consider one of the very well known behavioral patterns called the **observer pattern**.\n",
    "\n",
    "In this pattern we are isolating a group of objects called `Observer` from the `Observable` (also known as `Subject`).\n",
    "\n",
    "The `Observer` is interested in a state change of the `Observable`.\n",
    "The role of the `Observable` is to notify all registered observers about the state update (similar to a notification subscription on our phones).\n",
    "\n",
    "We will implement initially a single-threaded version of this pattern.\n",
    "Then we will discuss the potential issues in a multi threaded approach and finally progress to a thread safe version that is as performant as we can make it."
   ]
  },
  {
   "cell_type": "markdown",
   "metadata": {},
   "source": [
    "### Creating Auxiliary Classes\n",
    "We will define the auxiliary classes that will be needed.\n",
    "\n",
    "We require an `Event` object definition that will be used to pass information into the `Observer` from the `Observable`."
   ]
  },
  {
   "cell_type": "code",
   "execution_count": 12,
   "metadata": {},
   "outputs": [],
   "source": [
    "from collections import defaultdict\n",
    "from dataclasses import dataclass\n",
    "from datetime import datetime\n",
    "from time import sleep\n",
    "from typing import DefaultDict, List\n",
    "\n",
    "\n",
    "class EventKeys:\n",
    "    EXPENSES = 'expenses'\n",
    "\n",
    "\n",
    "@dataclass\n",
    "class Event:\n",
    "    name: str\n",
    "    data: dict"
   ]
  },
  {
   "cell_type": "markdown",
   "metadata": {},
   "source": [
    "### Defining Interfaces for the Observer Pattern\n",
    "Below we define the `Observer` and `Observable` as abstract classes with their methods."
   ]
  },
  {
   "cell_type": "code",
   "execution_count": 13,
   "metadata": {
    "pycharm": {
     "name": "#%%\n"
    }
   },
   "outputs": [],
   "source": [
    "from abc import ABC, abstractmethod\n",
    "\n",
    "\n",
    "\n",
    "class IObserver(ABC):\n",
    "    @abstractmethod\n",
    "    def update(self, event: Event, key: str):\n",
    "        raise NotImplementedError\n",
    "\n",
    "\n",
    "class IObservable(ABC):\n",
    "    @abstractmethod\n",
    "    def add_observer(self, observer: IObserver, key: str):\n",
    "        raise NotImplementedError\n",
    "    \n",
    "    @abstractmethod\n",
    "    def remove_observer(self, observer: IObserver, key: str):\n",
    "        raise NotImplementedError\n",
    "    \n",
    "    @abstractmethod\n",
    "    def update_observers(self, event: Event, key: str):\n",
    "        raise NotImplementedError"
   ]
  },
  {
   "cell_type": "markdown",
   "metadata": {
    "pycharm": {
     "name": "#%% md\n"
    }
   },
   "source": [
    "### Implementing Concrete Versions for Single Threaded Use Case\n",
    "Now that we have the necessary building blocks we can implement a single threaded version of the pattern and profile its performance."
   ]
  },
  {
   "cell_type": "code",
   "execution_count": 14,
   "metadata": {},
   "outputs": [],
   "source": [
    "UPDATE_DELAY = 0.5\n",
    "\n",
    "\n",
    "class Observer(IObserver):\n",
    "    def __init__(self, name: str):\n",
    "        self.name = name\n",
    "        self.totals = defaultdict(float)\n",
    "\n",
    "    def update(self, event: Event, key: str):\n",
    "        sleep(UPDATE_DELAY)\n",
    "        print(f'{self.name} received event \"{event.name}\" for {key}')\n",
    "        print(f'Event data: {event.data}')\n",
    "        self.totals[key] += event.data.get(key, 0)\n",
    "        print(f'Total for {key}: {self.totals[key]}')"
   ]
  },
  {
   "cell_type": "markdown",
   "metadata": {
    "pycharm": {
     "name": "#%% md\n"
    }
   },
   "source": [
    "Our concrete `Observer` has a simple `update` method that will inform us about the received event and store total of\n",
    "values received in the data for each key. We are adding delay to `update` to simulate a computationally expensive\n",
    "execution and check how our class performs later on in different implementations."
   ]
  },
  {
   "cell_type": "code",
   "execution_count": 15,
   "metadata": {
    "pycharm": {
     "name": "#%%\n"
    }
   },
   "outputs": [],
   "source": [
    "class Observable(IObservable):\n",
    "    def __init__(self):\n",
    "        self.observers_map: DefaultDict[str, List[Observer]] = defaultdict(list)\n",
    "\n",
    "    def add_observer(self, observer: Observer, key: str):\n",
    "        self.observers_map[key].append(observer)\n",
    "\n",
    "    def remove_observer(self, observer: Observer, key: str):\n",
    "        if observer in self.observers_map[key]:\n",
    "            self.observers_map[key].remove(observer)\n",
    "\n",
    "    def update_observers(self, event: Event, key: str):\n",
    "        for observer in self.observers_map[key]:\n",
    "            observer.update(event=event, key=key)"
   ]
  },
  {
   "cell_type": "markdown",
   "metadata": {},
   "source": [
    "The concrete version of the `Observable` contains a map of observers that will be added by key (category).\n",
    "We have implementations of the basic methods that will allow adding, removing and updating observers."
   ]
  },
  {
   "cell_type": "markdown",
   "metadata": {},
   "source": [
    "### Testing performance of single threaded implementation  of the Observer Pattern\n",
    "\n",
    "The most important test for us is updating large quantity of observers. As we can guess it will be a linear relationship\n",
    "growing proportionally with the number of observers added."
   ]
  },
  {
   "cell_type": "code",
   "execution_count": 16,
   "metadata": {
    "pycharm": {
     "name": "#%%\n"
    }
   },
   "outputs": [
    {
     "name": "stdout",
     "output_type": "stream",
     "text": [
      "Observer-0 received event \"Adding Expenses\" for expenses\n",
      "Event data: {'expenses': 1}\n",
      "Total for expenses: 1.0\n",
      "Observer-1 received event \"Adding Expenses\" for expenses\n",
      "Event data: {'expenses': 1}\n",
      "Total for expenses: 1.0\n",
      "Observer-2 received event \"Adding Expenses\" for expenses\n",
      "Event data: {'expenses': 1}\n",
      "Total for expenses: 1.0\n",
      "Observer-3 received event \"Adding Expenses\" for expenses\n",
      "Event data: {'expenses': 1}\n",
      "Total for expenses: 1.0\n",
      "Observer-4 received event \"Adding Expenses\" for expenses\n",
      "Event data: {'expenses': 1}\n",
      "Total for expenses: 1.0\n",
      "Observer-5 received event \"Adding Expenses\" for expenses\n",
      "Event data: {'expenses': 1}\n",
      "Total for expenses: 1.0\n",
      "Observer-6 received event \"Adding Expenses\" for expenses\n",
      "Event data: {'expenses': 1}\n",
      "Total for expenses: 1.0\n",
      "Observer-7 received event \"Adding Expenses\" for expenses\n",
      "Event data: {'expenses': 1}\n",
      "Total for expenses: 1.0\n",
      "Observer-8 received event \"Adding Expenses\" for expenses\n",
      "Event data: {'expenses': 1}\n",
      "Total for expenses: 1.0\n",
      "Observer-9 received event \"Adding Expenses\" for expenses\n",
      "Event data: {'expenses': 1}\n",
      "Total for expenses: 1.0\n"
     ]
    }
   ],
   "source": [
    "\n",
    "# Build an array of observers\n",
    "NUMBER_OF_OBSERVERS = 10\n",
    "observers = []\n",
    "for i in range(NUMBER_OF_OBSERVERS):\n",
    "    observer = Observer(name=f'Observer-{i}')\n",
    "    observers.append(observer)\n",
    "\n",
    "# Create an instance of Observable\n",
    "observable = Observable()\n",
    "\n",
    "# Add observers to the observable instance.\n",
    "for observer in observers:\n",
    "    observable.add_observer(observer=observer, key=EventKeys.EXPENSES)\n",
    "\n",
    "# Generate an event\n",
    "expenses_event = Event(name='Adding Expenses', data={EventKeys.EXPENSES: 1})\n",
    "\n",
    "# Measure time it takes to update all observers in the single threaded implementation\n",
    "single_threaded_update_start = datetime.now()\n",
    "observable.update_observers(event=expenses_event, key=EventKeys.EXPENSES)\n",
    "single_threaded_update_stop = datetime.now()\n",
    "\n",
    "single_threaded_update_duration = single_threaded_update_stop - single_threaded_update_start"
   ]
  },
  {
   "cell_type": "code",
   "execution_count": 17,
   "metadata": {
    "pycharm": {
     "name": "#%%\n"
    }
   },
   "outputs": [
    {
     "data": {
      "text/plain": [
       "datetime.timedelta(seconds=5, microseconds=12051)"
      ]
     },
     "execution_count": 17,
     "metadata": {},
     "output_type": "execute_result"
    }
   ],
   "source": [
    "print(f'Single threaded update takes: {single_threaded_update_duration}')"
   ]
  },
  {
   "cell_type": "markdown",
   "metadata": {},
   "source": [
    "As expected the single threaded `update` took roughly number of observers * `UPDATE_DELAY` in seconds to complete."
   ]
  },
  {
   "cell_type": "markdown",
   "metadata": {},
   "source": [
    "### Implementing multi-threaded version of the Observer Pattern\n",
    "\n",
    "As we have observed the slowest part of the pattern is updating all of the observers.\n",
    "In the single threaded version we simply loop over the array of the observers and if any of their individual `update` \n",
    "methods requires long execution the entire `update_observers` method blocks the thread in which is is running.\n",
    "\n",
    "It would be nice to be able to add/remove observers from any thread safely as well as make `update_observers` more \n",
    "performing.\n",
    "Unfortunately as soon as walk into the shared memory land of multi-threaded design we hit a bunch of problems.\n",
    "\n",
    "In the `Oberver` class - we are modifying the dictionary `observers_map` in `add_observer` and \n",
    "`remove_observer`. We are also relying on it being in a non-changing state when iterating over its contents in \n",
    "`update_observers`. \n",
    "\n",
    "What will happen when we allow any combination of threads to call those methods in any order?"
   ]
  },
  {
   "cell_type": "markdown",
   "metadata": {},
   "source": [
    "### Example of possible complications in multi-threading:\n",
    "\n",
    "Let's discuss one of multiple issues that can occur when calling `add_observer` from multiple threads.\n",
    "\n",
    "We have `Thread A` and `Thread B`, there are no registered observers on our `Observable` instance.\n",
    "Both threads are adding an observer each. \n",
    "\n",
    "Keep in mind that the OS will use preemptive task switching - meaning the threads are being changed by the OS at certain\n",
    "intervals and may interrupt execution of any statement.\n",
    "\n",
    " Here is what can potentially go wrong:\n",
    " \n",
    " 1. `Thread A` calls `add_observer(observer_1, key_1)`, the `observers_map` is still empty.\n",
    " 2. Since it is empty we are adding an entry to it at `key`\n",
    " 3. The code creates a mapping for the `key` pointing at an empty list initially.\n",
    " 4. OS switches threads.\n",
    " 5. `Thread B` calls `add_observer(observer_2, key_1)`, the `observers_map` has just a `key` pointing to an empty list!\n",
    " We have not finished adding the `observer_1` yet!\n",
    " 6. `observer_2` gets appended to the list.\n",
    " 7. OS switches threads - remember, this means we restore the registers, stack etc - so we go back to just having a \n",
    " mapping from `key` to an empty list.\n",
    " 8. `observer_1` gets appended to the list under `key`. We have lost `observer_2` forever....\n",
    " \n",
    " We ended up with a corrupted state of the hash map. \n",
    " Do not panic though - this is an incredibly rare occurrence. Nonetheless our code would be prone to intractable errors.\n",
    " \n",
    " This is only one of the potential problems. We can have similar issues when removing observers or calling update \n",
    " method."
   ]
  }
 ],
 "metadata": {
  "kernelspec": {
   "display_name": "Python 3",
   "language": "python",
   "name": "python3"
  },
  "language_info": {
   "codemirror_mode": {
    "name": "ipython",
    "version": 3
   },
   "file_extension": ".py",
   "mimetype": "text/x-python",
   "name": "python",
   "nbconvert_exporter": "python",
   "pygments_lexer": "ipython3",
   "version": "3.7.7"
  }
 },
 "nbformat": 4,
 "nbformat_minor": 1
}