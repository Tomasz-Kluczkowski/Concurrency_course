{
 "cells": [
  {
   "cell_type": "markdown",
   "metadata": {},
   "source": [
    "# Observer Pattern Implementation in Python "
   ]
  },
  {
   "cell_type": "markdown",
   "metadata": {
    "collapsed": true
   },
   "source": [
    "In this article we will consider one of the very well known behavioral patterns called the **observer pattern**.\n",
    "\n",
    "In this pattern we are isolating a group of objects called `Observer` from the `Observable` (also known as `Subject`).\n",
    "\n",
    "The `Observer` is interested in a state change of the `Observable`.\n",
    "The role of the `Observable` is to notify all registered observers about the state update (similar to a notification subscription on our phones).\n",
    "\n",
    "We will implement initially a single-threaded version of this pattern.\n",
    "Then we will discuss the potential issues in a multi threaded approach and finally progress to a thread safe version that is as performant as we can make it."
   ]
  },
  {
   "cell_type": "markdown",
   "metadata": {},
   "source": [
    "### Creating Auxiliary Classes\n",
    "We will define the auxiliary classes that will be needed.\n",
    "\n",
    "We require an `Event` object definition that will be used to pass information into the `Observer` from the `Observable`."
   ]
  },
  {
   "cell_type": "code",
   "execution_count": 1,
   "metadata": {},
   "outputs": [],
   "source": [
    "from dataclasses import dataclass\n",
    "\n",
    "\n",
    "@dataclass\n",
    "class Event:\n",
    "    name: str\n",
    "    data: dict"
   ]
  },
  {
   "cell_type": "markdown",
   "metadata": {},
   "source": [
    "### Defining Interfaces for the Observer Pattern\n",
    "Below we define the `Observer` and `Observable` as abstract classes with their methods."
   ]
  },
  {
   "cell_type": "code",
   "execution_count": 2,
   "metadata": {
    "pycharm": {
     "is_executing": false,
     "name": "#%%\n"
    }
   },
   "outputs": [],
   "source": [
    "from abc import ABC, abstractmethod\n",
    "\n",
    "\n",
    "\n",
    "class IObserver(ABC):\n",
    "    @abstractmethod\n",
    "    def update(self, event: Event, key: str):\n",
    "        raise NotImplementedError\n",
    "\n",
    "\n",
    "class IObservable(ABC):\n",
    "    @abstractmethod\n",
    "    def add_observer(self, observer: IObserver, key: str):\n",
    "        raise NotImplementedError\n",
    "    \n",
    "    @abstractmethod\n",
    "    def remove_observer(self, observer: IObserver, key: str):\n",
    "        raise NotImplementedError\n",
    "    \n",
    "    @abstractmethod\n",
    "    def update_observers(self, event: Event, key: str):\n",
    "        raise NotImplementedError"
   ]
  },
  {
   "cell_type": "markdown",
   "metadata": {
    "pycharm": {
     "name": "#%% md\n"
    }
   },
   "source": [
    "### Implementing Concrete Versions for Single Threaded Use Case\n",
    "Now that we have the necessary building blocks we can implement a single threaded version of the pattern and profile its performance."
   ]
  },
  {
   "cell_type": "code",
   "execution_count": null,
   "metadata": {},
   "outputs": [],
   "source": []
  }
 ],
 "metadata": {
  "kernelspec": {
   "display_name": "Python 3",
   "language": "python",
   "name": "python3"
  },
  "language_info": {
   "codemirror_mode": {
    "name": "ipython",
    "version": 3
   },
   "file_extension": ".py",
   "mimetype": "text/x-python",
   "name": "python",
   "nbconvert_exporter": "python",
   "pygments_lexer": "ipython3",
   "version": "3.7.7"
  },
  "pycharm": {
   "stem_cell": {
    "cell_type": "raw",
    "metadata": {
     "collapsed": false
    },
    "source": []
   }
  }
 },
 "nbformat": 4,
 "nbformat_minor": 1
}
